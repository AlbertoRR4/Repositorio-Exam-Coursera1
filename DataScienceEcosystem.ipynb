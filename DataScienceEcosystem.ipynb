{
 "cells": [
  {
   "cell_type": "code",
   "execution_count": 1,
   "id": "45341daf-d715-47b4-b843-01dbf6ccfae1",
   "metadata": {
    "collapsed": true,
    "jupyter": {
     "outputs_hidden": true,
     "source_hidden": true
    },
    "tags": []
   },
   "outputs": [
    {
     "ename": "SyntaxError",
     "evalue": "invalid syntax (2383999780.py, line 1)",
     "output_type": "error",
     "traceback": [
      "\u001b[0;36m  File \u001b[0;32m\"/tmp/ipykernel_340/2383999780.py\"\u001b[0;36m, line \u001b[0;32m1\u001b[0m\n\u001b[0;31m    Data Science Tools and Ecosystem\u001b[0m\n\u001b[0m               ^\u001b[0m\n\u001b[0;31mSyntaxError\u001b[0m\u001b[0;31m:\u001b[0m invalid syntax\n"
     ]
    }
   ],
   "source": [
    "Data Science Tools and Ecosystem"
   ]
  },
  {
   "cell_type": "markdown",
   "id": "ecf41380-cb60-4d28-8f16-83ea0704e5ca",
   "metadata": {
    "jupyter": {
     "outputs_hidden": true
    },
    "tags": []
   },
   "source": [
    "Data Science Tools and Ecosystem"
   ]
  },
  {
   "cell_type": "markdown",
   "id": "b3d4762d-e417-41b5-abeb-d6a2d114bdab",
   "metadata": {},
   "source": [
    "In this notebook, Data Science Tools and Ecosystem are summarized."
   ]
  },
  {
   "cell_type": "markdown",
   "id": "7d8be40e-0efb-4791-b3d8-e81773b1eb43",
   "metadata": {},
   "source": [
    "objectives"
   ]
  },
  {
   "cell_type": "markdown",
   "id": "fac85698-93ae-4b1c-b492-db06cd5b11df",
   "metadata": {},
   "source": [
    "from IPython.display import Markdown\n",
    "\n",
    "items = [\n",
    "    \"List popular languages for Data Science\",\n",
    "    \"Explore common libraries used in Data Science\",\n",
    "    \"Demonstrate data manipulation techniques\",\n",
    "    \"Introduce machine learning algorithms\",\n",
    "    \"Discuss best practices in data visualization\"\n",
    "]"
   ]
  },
  {
   "cell_type": "code",
   "execution_count": 26,
   "id": "54c770ef-e745-4277-8791-72a2e9c5d3b4",
   "metadata": {
    "tags": []
   },
   "outputs": [
    {
     "data": {
      "text/markdown": [
       "### Objectives:\n",
       "\n",
       "- List popular languages for Data Science\n",
       "- Explore common libraries used in Data Science\n",
       "- Demonstrate data manipulation techniques\n",
       "- Introduce machine learning algorithms\n",
       "- Discuss best practices in data visualization\n"
      ],
      "text/plain": [
       "<IPython.core.display.Markdown object>"
      ]
     },
     "execution_count": 26,
     "metadata": {},
     "output_type": "execute_result"
    }
   ],
   "source": [
    "from IPython.display import Markdown\n",
    "\n",
    "items = [\n",
    "    \"List popular languages for Data Science\",\n",
    "    \"Explore common libraries used in Data Science\",\n",
    "    \"Demonstrate data manipulation techniques\",\n",
    "    \"Introduce machine learning algorithms\",\n",
    "    \"Discuss best practices in data visualization\"\n",
    "]\n",
    "intro_text = \"### Objectives:\\n\\n\"\n",
    "for item in items:\n",
    "    intro_text += f\"- {item}\\n\"\n",
    "\n",
    "Markdown(intro_text)"
   ]
  },
  {
   "cell_type": "markdown",
   "id": "fa4d28c5-b2b0-4b71-834f-b16bd6fa11e4",
   "metadata": {},
   "source": [
    "Some of the popular languages that Data Scientists use are:"
   ]
  },
  {
   "cell_type": "code",
   "execution_count": 6,
   "id": "a4e7120f-10d4-48e6-bed6-ba7dc1823c3c",
   "metadata": {
    "tags": []
   },
   "outputs": [
    {
     "data": {
      "text/markdown": [
       "**Librerías de Data Science:**\n",
       "1. NumPy\n",
       "2. Pandas\n",
       "3. Matplotlib\n",
       "4. Scikit-learn\n",
       "5. TensorFlow\n",
       "6. Keras\n"
      ],
      "text/plain": [
       "<IPython.core.display.Markdown object>"
      ]
     },
     "execution_count": 6,
     "metadata": {},
     "output_type": "execute_result"
    }
   ],
   "source": [
    "from IPython.display import Markdown\n",
    "\n",
    "librerias_data_science = [\"NumPy\", \"Pandas\", \"Matplotlib\", \"Scikit-learn\", \"TensorFlow\", \"Keras\"]\n",
    "lista_librerias = \"\"\n",
    "for i, libreria in enumerate(librerias_data_science):\n",
    "    lista_librerias += f\"{i+1}. {libreria}\\n\"\n",
    "\n",
    "Markdown(f\"**Librerías de Data Science:**\\n{lista_librerias}\")"
   ]
  },
  {
   "cell_type": "code",
   "execution_count": 7,
   "id": "924a6f01-b21b-4aec-a2aa-3403fe08c6f1",
   "metadata": {
    "tags": []
   },
   "outputs": [
    {
     "data": {
      "text/markdown": [
       "**Commonly Used Languages for Data Science:**\n",
       "1. Python\n",
       "2. R\n",
       "3. SQL\n",
       "4. Julia\n",
       "5. Scala\n"
      ],
      "text/plain": [
       "<IPython.core.display.Markdown object>"
      ]
     },
     "execution_count": 7,
     "metadata": {},
     "output_type": "execute_result"
    }
   ],
   "source": [
    "from IPython.display import Markdown\n",
    "\n",
    "languages_data_science = [\"Python\", \"R\", \"SQL\", \"Julia\", \"Scala\"]\n",
    "\n",
    "ordered_list = \"\"\n",
    "for i, language in enumerate(languages_data_science):\n",
    "    ordered_list += f\"{i+1}. {language}\\n\"\n",
    "\n",
    "Markdown(f\"**Commonly Used Languages for Data Science:**\\n{ordered_list}\")"
   ]
  },
  {
   "cell_type": "markdown",
   "id": "b0b6674a-6a5f-47bd-8f1f-2a18e0df3131",
   "metadata": {},
   "source": [
    "languages_data_science = [\"Python\", \"R\", \"SQL\", \"Julia\", \"Scala\"]\n",
    "\n",
    "ordered_list = \"\"\n",
    "for i, language in enumerate(languages_data_science):\n",
    "    ordered_list += f\"{i+1}. {language}\\n\"\n"
   ]
  },
  {
   "cell_type": "code",
   "execution_count": 8,
   "id": "a5e5bccf-9cad-4126-811e-733adacfcca9",
   "metadata": {
    "tags": []
   },
   "outputs": [
    {
     "ename": "SyntaxError",
     "evalue": "EOF while scanning triple-quoted string literal (2625694635.py, line 6)",
     "output_type": "error",
     "traceback": [
      "\u001b[0;36m  File \u001b[0;32m\"/tmp/ipykernel_340/2625694635.py\"\u001b[0;36m, line \u001b[0;32m6\u001b[0m\n\u001b[0;31m    <tr>\u001b[0m\n\u001b[0m        \n^\u001b[0m\n\u001b[0;31mSyntaxError\u001b[0m\u001b[0;31m:\u001b[0m EOF while scanning triple-quoted string literal\n"
     ]
    }
   ],
   "source": [
    "table_html = \"\"\"\n",
    "<table>\n",
    "  <tr>\n",
    "    <th>Data Science Tools</th>\n",
    "  </tr>\n",
    "  <tr>"
   ]
  },
  {
   "cell_type": "code",
   "execution_count": 9,
   "id": "b848e209-2ce1-439a-b339-c8ada503ac50",
   "metadata": {
    "tags": []
   },
   "outputs": [
    {
     "data": {
      "text/html": [
       "\n",
       "<table>\n",
       "  <tr>\n",
       "    <th>Data Science Tools</th>\n",
       "  </tr>\n",
       "  <tr>\n",
       "    <td>Jupyter Notebook</td>\n",
       "  </tr>\n",
       "  <tr>\n",
       "    <td>RStudio</td>\n",
       "  </tr>\n",
       "  <tr>\n",
       "    <td>Visual Studio Code</td>\n",
       "  </tr>\n",
       "</table>\n"
      ],
      "text/plain": [
       "<IPython.core.display.HTML object>"
      ]
     },
     "execution_count": 9,
     "metadata": {},
     "output_type": "execute_result"
    }
   ],
   "source": [
    "from IPython.display import HTML\n",
    "\n",
    "table_html = \"\"\"\n",
    "<table>\n",
    "  <tr>\n",
    "    <th>Data Science Tools</th>\n",
    "  </tr>\n",
    "  <tr>\n",
    "    <td>Jupyter Notebook</td>\n",
    "  </tr>\n",
    "  <tr>\n",
    "    <td>RStudio</td>\n",
    "  </tr>\n",
    "  <tr>\n",
    "    <td>Visual Studio Code</td>\n",
    "  </tr>\n",
    "</table>\n",
    "\"\"\"\n",
    "\n",
    "HTML(table_html)\n"
   ]
  },
  {
   "cell_type": "code",
   "execution_count": 10,
   "id": "bce8f276-33a4-4191-a27e-c27be6e7253c",
   "metadata": {
    "tags": []
   },
   "outputs": [
    {
     "ename": "ImportError",
     "evalue": "cannot import name 'table' from 'IPython.display' (/home/jupyterlab/conda/envs/python/lib/python3.7/site-packages/IPython/display.py)",
     "output_type": "error",
     "traceback": [
      "\u001b[0;31m---------------------------------------------------------------------------\u001b[0m",
      "\u001b[0;31mImportError\u001b[0m                               Traceback (most recent call last)",
      "\u001b[0;32m/tmp/ipykernel_340/1930512472.py\u001b[0m in \u001b[0;36m<module>\u001b[0;34m\u001b[0m\n\u001b[0;32m----> 1\u001b[0;31m \u001b[0;32mfrom\u001b[0m \u001b[0mIPython\u001b[0m\u001b[0;34m.\u001b[0m\u001b[0mdisplay\u001b[0m \u001b[0;32mimport\u001b[0m \u001b[0mtable\u001b[0m\u001b[0;34m\u001b[0m\u001b[0;34m\u001b[0m\u001b[0m\n\u001b[0m",
      "\u001b[0;31mImportError\u001b[0m: cannot import name 'table' from 'IPython.display' (/home/jupyterlab/conda/envs/python/lib/python3.7/site-packages/IPython/display.py)"
     ]
    }
   ],
   "source": [
    "from IPython.display import table"
   ]
  },
  {
   "cell_type": "code",
   "execution_count": 11,
   "id": "a1a187aa-fd48-4d8d-885a-04bad7edad0b",
   "metadata": {
    "tags": []
   },
   "outputs": [
    {
     "data": {
      "text/html": [
       "<div>\n",
       "<style scoped>\n",
       "    .dataframe tbody tr th:only-of-type {\n",
       "        vertical-align: middle;\n",
       "    }\n",
       "\n",
       "    .dataframe tbody tr th {\n",
       "        vertical-align: top;\n",
       "    }\n",
       "\n",
       "    .dataframe thead th {\n",
       "        text-align: right;\n",
       "    }\n",
       "</style>\n",
       "<table border=\"1\" class=\"dataframe\">\n",
       "  <thead>\n",
       "    <tr style=\"text-align: right;\">\n",
       "      <th></th>\n",
       "      <th>Data Science Tools</th>\n",
       "    </tr>\n",
       "  </thead>\n",
       "  <tbody>\n",
       "    <tr>\n",
       "      <th>0</th>\n",
       "      <td>Jupyter Notebook</td>\n",
       "    </tr>\n",
       "    <tr>\n",
       "      <th>1</th>\n",
       "      <td>RStudio</td>\n",
       "    </tr>\n",
       "    <tr>\n",
       "      <th>2</th>\n",
       "      <td>Visual Studio Code</td>\n",
       "    </tr>\n",
       "  </tbody>\n",
       "</table>\n",
       "</div>"
      ],
      "text/plain": [
       "   Data Science Tools\n",
       "0    Jupyter Notebook\n",
       "1             RStudio\n",
       "2  Visual Studio Code"
      ]
     },
     "execution_count": 11,
     "metadata": {},
     "output_type": "execute_result"
    }
   ],
   "source": [
    "import pandas as pd\n",
    "\n",
    "data = {\n",
    "    \"Data Science Tools\"\n",
    "\n",
    "df = pd.DataFrame(data)\n",
    "\n",
    "df"
   ]
  },
  {
   "cell_type": "code",
   "execution_count": 12,
   "id": "70b9edc7-917b-4bf8-a43c-cf926950b8db",
   "metadata": {
    "tags": []
   },
   "outputs": [
    {
     "ename": "SyntaxError",
     "evalue": "invalid syntax (913885509.py, line 6)",
     "output_type": "error",
     "traceback": [
      "\u001b[0;36m  File \u001b[0;32m\"/tmp/ipykernel_340/913885509.py\"\u001b[0;36m, line \u001b[0;32m6\u001b[0m\n\u001b[0;31m    df = pd.DataFrame(data)\u001b[0m\n\u001b[0m     ^\u001b[0m\n\u001b[0;31mSyntaxError\u001b[0m\u001b[0;31m:\u001b[0m invalid syntax\n"
     ]
    }
   ],
   "source": [
    "import pandas as pd\n",
    "\n",
    "data = {\n",
    "    \"Data Science Tools\"\n",
    "\n",
    "df = pd.DataFrame(data)\n",
    "\n",
    "df"
   ]
  },
  {
   "cell_type": "code",
   "execution_count": 13,
   "id": "74519c8f-1a5e-45dc-8c5e-15322b694f7a",
   "metadata": {
    "tags": []
   },
   "outputs": [
    {
     "data": {
      "text/html": [
       "<div>\n",
       "<style scoped>\n",
       "    .dataframe tbody tr th:only-of-type {\n",
       "        vertical-align: middle;\n",
       "    }\n",
       "\n",
       "    .dataframe tbody tr th {\n",
       "        vertical-align: top;\n",
       "    }\n",
       "\n",
       "    .dataframe thead th {\n",
       "        text-align: right;\n",
       "    }\n",
       "</style>\n",
       "<table border=\"1\" class=\"dataframe\">\n",
       "  <thead>\n",
       "    <tr style=\"text-align: right;\">\n",
       "      <th></th>\n",
       "      <th>0</th>\n",
       "    </tr>\n",
       "  </thead>\n",
       "  <tbody>\n",
       "    <tr>\n",
       "      <th>0</th>\n",
       "      <td>Data Science Tools</td>\n",
       "    </tr>\n",
       "  </tbody>\n",
       "</table>\n",
       "</div>"
      ],
      "text/plain": [
       "                    0\n",
       "0  Data Science Tools"
      ]
     },
     "execution_count": 13,
     "metadata": {},
     "output_type": "execute_result"
    }
   ],
   "source": [
    "import pandas as pd\n",
    "\n",
    "data = {\n",
    "    \"Data Science Tools\"\n",
    "}\n",
    "\n",
    "df = pd.DataFrame(data)\n",
    "\n",
    "df"
   ]
  },
  {
   "cell_type": "markdown",
   "id": "a0502916-b185-4f64-a94b-e7d5fc9fec81",
   "metadata": {},
   "source": [
    "Below are a few examples of evaluating arithmetic expressions in Python."
   ]
  },
  {
   "cell_type": "code",
   "execution_count": 15,
   "id": "3f02bbfb-c9a7-4825-a77f-ccffe15f4e34",
   "metadata": {
    "tags": []
   },
   "outputs": [
    {
     "name": "stdout",
     "output_type": "stream",
     "text": [
      "4\n"
     ]
    }
   ],
   "source": [
    "result = 2+2\n",
    "print(result)"
   ]
  },
  {
   "cell_type": "code",
   "execution_count": 17,
   "id": "a91dae87-99e1-4ecf-a841-0791a8723a8a",
   "metadata": {
    "tags": []
   },
   "outputs": [
    {
     "name": "stdout",
     "output_type": "stream",
     "text": [
      "18\n"
     ]
    }
   ],
   "source": [
    "result = 2*9\n",
    "print (result)"
   ]
  },
  {
   "cell_type": "code",
   "execution_count": 18,
   "id": "c3053535-599e-422e-b0be-5cba66d7c935",
   "metadata": {
    "tags": []
   },
   "outputs": [
    {
     "data": {
      "text/plain": [
       "17"
      ]
     },
     "execution_count": 18,
     "metadata": {},
     "output_type": "execute_result"
    }
   ],
   "source": [
    "(3*4)+5"
   ]
  },
  {
   "cell_type": "markdown",
   "id": "cf76f010-724a-4ad2-950c-c0728a2949e8",
   "metadata": {},
   "source": [
    "this a simple arithmetic expression to mutiply then add integers"
   ]
  },
  {
   "cell_type": "code",
   "execution_count": 19,
   "id": "1f0c2944-eb98-4f8a-a21f-3ffc4ad8fbff",
   "metadata": {
    "tags": []
   },
   "outputs": [
    {
     "ename": "SyntaxError",
     "evalue": "invalid syntax (3304297961.py, line 1)",
     "output_type": "error",
     "traceback": [
      "\u001b[0;36m  File \u001b[0;32m\"/tmp/ipykernel_340/3304297961.py\"\u001b[0;36m, line \u001b[0;32m1\u001b[0m\n\u001b[0;31m    converts 200 minutes into hours\u001b[0m\n\u001b[0m               ^\u001b[0m\n\u001b[0;31mSyntaxError\u001b[0m\u001b[0;31m:\u001b[0m invalid syntax\n"
     ]
    }
   ],
   "source": [
    "converts 200 minutes into hours"
   ]
  },
  {
   "cell_type": "code",
   "execution_count": 22,
   "id": "f3085fb3-1b9d-48ad-a156-47e4cf5ea9a2",
   "metadata": {
    "tags": []
   },
   "outputs": [
    {
     "name": "stdout",
     "output_type": "stream",
     "text": [
      "200 minutes is equal to 3.3333333333333335 hours\n"
     ]
    }
   ],
   "source": [
    "minutes = 200\n",
    "hours = minutes / 60\n",
    "\n",
    "print(\"200 minutes is equal to\", hours, \"hours\")"
   ]
  },
  {
   "cell_type": "code",
   "execution_count": 23,
   "id": "9a0ae299-ef03-4cd1-be0b-d5fca72031a8",
   "metadata": {
    "tags": []
   },
   "outputs": [
    {
     "data": {
      "text/plain": [
       "3.3333333333333335"
      ]
     },
     "execution_count": 23,
     "metadata": {},
     "output_type": "execute_result"
    }
   ],
   "source": [
    "200/60"
   ]
  },
  {
   "cell_type": "markdown",
   "id": "660c959f-8ae5-4283-b848-16ecd60b63cc",
   "metadata": {},
   "source": [
    "This will convert 200 minutes to hours by diving by 60"
   ]
  },
  {
   "cell_type": "code",
   "execution_count": 29,
   "id": "4f7e1b1f-d42d-40a4-8380-92fdb8dff3c3",
   "metadata": {
    "tags": []
   },
   "outputs": [
    {
     "ename": "SyntaxError",
     "evalue": "invalid syntax (1148493068.py, line 4)",
     "output_type": "error",
     "traceback": [
      "\u001b[0;36m  File \u001b[0;32m\"/tmp/ipykernel_340/1148493068.py\"\u001b[0;36m, line \u001b[0;32m4\u001b[0m\n\u001b[0;31m    author_text+ = \"Alberto Remirez\"\u001b[0m\n\u001b[0m                 ^\u001b[0m\n\u001b[0;31mSyntaxError\u001b[0m\u001b[0;31m:\u001b[0m invalid syntax\n"
     ]
    }
   ],
   "source": [
    "from IPython.display import Markdown\n",
    "\n",
    "author_text = \"## Author\\n\\n\"\n",
    "author_text+ = \"Alberto Remirez\"\n",
    "\n",
    "Markdown(author_text)"
   ]
  },
  {
   "cell_type": "code",
   "execution_count": 30,
   "id": "e8cbcd1e-f0a0-43ad-8622-4c1cd3de9068",
   "metadata": {
    "tags": []
   },
   "outputs": [
    {
     "data": {
      "text/markdown": [
       "## Author\n",
       "\n",
       "Alberto Remirez"
      ],
      "text/plain": [
       "<IPython.core.display.Markdown object>"
      ]
     },
     "execution_count": 30,
     "metadata": {},
     "output_type": "execute_result"
    }
   ],
   "source": [
    "from IPython.display import Markdown\n",
    "\n",
    "author_text = \"## Author\\n\\n\"\n",
    "author_text += \"Alberto Remirez\"\n",
    "\n",
    "Markdown(author_text)"
   ]
  },
  {
   "cell_type": "code",
   "execution_count": null,
   "id": "fdefbe56-6357-4841-93b5-63158fb286ff",
   "metadata": {},
   "outputs": [],
   "source": [
    "git init "
   ]
  }
 ],
 "metadata": {
  "kernelspec": {
   "display_name": "Python",
   "language": "python",
   "name": "conda-env-python-py"
  },
  "language_info": {
   "codemirror_mode": {
    "name": "ipython",
    "version": 3
   },
   "file_extension": ".py",
   "mimetype": "text/x-python",
   "name": "python",
   "nbconvert_exporter": "python",
   "pygments_lexer": "ipython3",
   "version": "3.7.12"
  }
 },
 "nbformat": 4,
 "nbformat_minor": 5
}
